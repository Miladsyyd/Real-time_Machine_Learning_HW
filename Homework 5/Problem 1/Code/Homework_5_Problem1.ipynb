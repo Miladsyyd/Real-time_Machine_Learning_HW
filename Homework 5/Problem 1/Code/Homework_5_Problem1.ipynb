{
  "nbformat": 4,
  "nbformat_minor": 0,
  "metadata": {
    "colab": {
      "provenance": []
    },
    "kernelspec": {
      "name": "python3",
      "display_name": "Python 3"
    },
    "language_info": {
      "name": "python"
    }
  },
  "cells": [
    {
      "cell_type": "code",
      "execution_count": 1,
      "metadata": {
        "id": "j56WGasm-LY_"
      },
      "outputs": [],
      "source": [
        "import torch\n",
        "import torch.nn as nn\n",
        "from torch.utils.data import Dataset, DataLoader\n",
        "import time\n",
        "import numpy as np\n",
        "\n",
        "# Check for GPU\n",
        "device = torch.device(\"cuda\" if torch.cuda.is_available() else \"cpu\")\n",
        "\n",
        "# Your text data\n",
        "text = \"\"\"Next character prediction is a fundamental task in the field of natural language processing (NLP) that involves predicting the next character in a sequence of text based on the characters that precede it. This task is essential for various applications, including text auto-completion, spell checking, and even in the development of sophisticated AI models capable of generating human-like text.\n",
        "\n",
        "At its core, next character prediction relies on statistical models or deep learning algorithms to analyze a given sequence of text and predict which character is most likely to follow. These predictions are based on patterns and relationships learned from large datasets of text during the training phase of the model.\n",
        "\n",
        "One of the most popular approaches to next character prediction involves the use of Recurrent Neural Networks (RNNs), and more specifically, a variant called Long Short-Term Memory (LSTM) networks. RNNs are particularly well-suited for sequential data like text, as they can maintain information in 'memory' about previous characters to inform the prediction of the next character. LSTM networks enhance this capability by being able to remember long-term dependencies, making them even more effective for next character prediction tasks.\n",
        "\n",
        "Training a model for next character prediction involves feeding it large amounts of text data, allowing it to learn the probability of each character's appearance following a sequence of characters. During this training process, the model adjusts its parameters to minimize the difference between its predictions and the actual outcomes, thus improving its predictive accuracy over time.\n",
        "\n",
        "Once trained, the model can be used to predict the next character in a given piece of text by considering the sequence of characters that precede it. This can enhance user experience in text editing software, improve efficiency in coding environments with auto-completion features, and enable more natural interactions with AI-based chatbots and virtual assistants.\n",
        "\n",
        "In summary, next character prediction plays a crucial role in enhancing the capabilities of various NLP applications, making text-based interactions more efficient, accurate, and human-like. Through the use of advanced machine learning models like RNNs and LSTMs, next character prediction continues to evolve, opening new possibilities for the future of text-based technology.\"\"\"\n",
        "\n",
        "# Create vocabulary\n",
        "chars = sorted(list(set(text)))\n",
        "vocab_size = len(chars)\n",
        "char2idx = {ch: i for i, ch in enumerate(chars)}\n",
        "idx2char = {i: ch for ch, i in char2idx.items()}\n",
        "encoded_text = [char2idx[c] for c in text]\n",
        "\n",
        "# Dataset\n",
        "class CharDataset(Dataset):\n",
        "    def __init__(self, data, seq_length):\n",
        "        self.data = data\n",
        "        self.seq_length = seq_length\n",
        "\n",
        "    def __len__(self):\n",
        "        return len(self.data) - self.seq_length\n",
        "\n",
        "    def __getitem__(self, idx):\n",
        "        return (\n",
        "            torch.tensor(self.data[idx:idx+self.seq_length]),\n",
        "            torch.tensor(self.data[idx+self.seq_length])\n",
        "        )\n"
      ]
    },
    {
      "cell_type": "code",
      "source": [
        "##Transformer Model for Character Prediction\n",
        "class TransformerCharModel(nn.Module):\n",
        "    def __init__(self, vocab_size, emb_size=64, num_heads=2, num_layers=2, ff_dim=128, dropout=0.1):\n",
        "        super(TransformerCharModel, self).__init__()\n",
        "        self.embedding = nn.Embedding(vocab_size, emb_size)\n",
        "        self.pos_embedding = nn.Parameter(torch.randn(1, 1000, emb_size))\n",
        "\n",
        "        encoder_layer = nn.TransformerEncoderLayer(d_model=emb_size, nhead=num_heads, dim_feedforward=ff_dim, dropout=dropout)\n",
        "        self.transformer = nn.TransformerEncoder(encoder_layer, num_layers=num_layers)\n",
        "        self.fc = nn.Linear(emb_size, vocab_size)\n",
        "\n",
        "    def forward(self, x):\n",
        "        seq_len = x.size(1)\n",
        "        x = self.embedding(x) + self.pos_embedding[:, :seq_len, :]\n",
        "        x = self.transformer(x)\n",
        "        out = self.fc(x[:, -1, :])  # Predict next char using last token\n",
        "        return out\n"
      ],
      "metadata": {
        "id": "ilA2wPxF-mrh"
      },
      "execution_count": 2,
      "outputs": []
    },
    {
      "cell_type": "code",
      "source": [
        "###Train Function\n",
        "def train_model(model, train_loader, val_loader, num_epochs=5):\n",
        "    model.to(device)\n",
        "    criterion = nn.CrossEntropyLoss()\n",
        "    optimizer = torch.optim.Adam(model.parameters(), lr=0.003)\n",
        "\n",
        "    start_time = time.time()\n",
        "    for epoch in range(num_epochs):\n",
        "        model.train()\n",
        "        total_loss = 0\n",
        "        for x, y in train_loader:\n",
        "            x, y = x.to(device), y.to(device)\n",
        "            optimizer.zero_grad()\n",
        "            output = model(x)\n",
        "            loss = criterion(output, y)\n",
        "            loss.backward()\n",
        "            optimizer.step()\n",
        "            total_loss += loss.item()\n",
        "        print(f\"Epoch {epoch+1}, Loss: {total_loss/len(train_loader):.4f}\")\n",
        "\n",
        "    train_time = time.time() - start_time\n",
        "\n",
        "    # Validation\n",
        "    model.eval()\n",
        "    correct = total = 0\n",
        "    with torch.no_grad():\n",
        "        for x, y in val_loader:\n",
        "            x, y = x.to(device), y.to(device)\n",
        "            output = model(x)\n",
        "            preds = output.argmax(dim=1)\n",
        "            correct += (preds == y).sum().item()\n",
        "            total += y.size(0)\n",
        "\n",
        "    acc = correct / total\n",
        "    return total_loss / len(train_loader), acc, train_time, sum(p.numel() for p in model.parameters())\n"
      ],
      "metadata": {
        "id": "0sBkW79T-qZN"
      },
      "execution_count": 3,
      "outputs": []
    },
    {
      "cell_type": "code",
      "source": [
        "sequence_lengths = [10, 20, 30]\n",
        "\n",
        "for seq_len in sequence_lengths:\n",
        "    print(f\"\\nTraining Transformer for sequence length {seq_len}\")\n",
        "    dataset = CharDataset(encoded_text, seq_len)\n",
        "    train_size = int(0.9 * len(dataset))\n",
        "    val_size = len(dataset) - train_size\n",
        "    train_set, val_set = torch.utils.data.random_split(dataset, [train_size, val_size])\n",
        "    train_loader = DataLoader(train_set, batch_size=64, shuffle=True)\n",
        "    val_loader = DataLoader(val_set, batch_size=64)\n",
        "\n",
        "    model = TransformerCharModel(vocab_size)\n",
        "    loss, acc, t_time, n_params = train_model(model, train_loader, val_loader)\n",
        "\n",
        "    print(f\"Loss: {loss:.4f}, Accuracy: {acc:.4f}, Time: {t_time:.2f}s, Params: {n_params}\")\n"
      ],
      "metadata": {
        "colab": {
          "base_uri": "https://localhost:8080/"
        },
        "id": "KcPAc2Tx-rxU",
        "outputId": "43d44148-4514-4ce3-a50f-fa65df9d7efe"
      },
      "execution_count": 4,
      "outputs": [
        {
          "output_type": "stream",
          "name": "stdout",
          "text": [
            "\n",
            "Training Transformer for sequence length 10\n"
          ]
        },
        {
          "output_type": "stream",
          "name": "stderr",
          "text": [
            "/usr/local/lib/python3.11/dist-packages/torch/nn/modules/transformer.py:385: UserWarning: enable_nested_tensor is True, but self.use_nested_tensor is False because encoder_layer.self_attn.batch_first was not True(use batch_first for better inference performance)\n",
            "  warnings.warn(\n"
          ]
        },
        {
          "output_type": "stream",
          "name": "stdout",
          "text": [
            "Epoch 1, Loss: 3.0356\n",
            "Epoch 2, Loss: 2.6818\n",
            "Epoch 3, Loss: 2.5292\n",
            "Epoch 4, Loss: 2.4451\n",
            "Epoch 5, Loss: 2.4143\n",
            "Loss: 2.4143, Accuracy: 0.3054, Time: 3.84s, Params: 136749\n",
            "\n",
            "Training Transformer for sequence length 20\n"
          ]
        },
        {
          "output_type": "stream",
          "name": "stderr",
          "text": [
            "/usr/local/lib/python3.11/dist-packages/torch/nn/modules/transformer.py:385: UserWarning: enable_nested_tensor is True, but self.use_nested_tensor is False because encoder_layer.self_attn.batch_first was not True(use batch_first for better inference performance)\n",
            "  warnings.warn(\n"
          ]
        },
        {
          "output_type": "stream",
          "name": "stdout",
          "text": [
            "Epoch 1, Loss: 3.0355\n",
            "Epoch 2, Loss: 2.6159\n",
            "Epoch 3, Loss: 2.5041\n",
            "Epoch 4, Loss: 2.4308\n",
            "Epoch 5, Loss: 2.4023\n",
            "Loss: 2.4023, Accuracy: 0.2983, Time: 6.82s, Params: 136749\n",
            "\n",
            "Training Transformer for sequence length 30\n",
            "Epoch 1, Loss: 3.1053\n",
            "Epoch 2, Loss: 2.6914\n",
            "Epoch 3, Loss: 2.5310\n",
            "Epoch 4, Loss: 2.4587\n",
            "Epoch 5, Loss: 2.4038\n",
            "Loss: 2.4038, Accuracy: 0.2405, Time: 8.46s, Params: 136749\n"
          ]
        }
      ]
    },
    {
      "cell_type": "code",
      "source": [
        "##RNN (LSTM) Model\n",
        "class LSTMCharModel(nn.Module):\n",
        "    def __init__(self, vocab_size, emb_size=64, hidden_size=128, num_layers=2):\n",
        "        super(LSTMCharModel, self).__init__()\n",
        "        self.embedding = nn.Embedding(vocab_size, emb_size)\n",
        "        self.lstm = nn.LSTM(emb_size, hidden_size, num_layers, batch_first=True)\n",
        "        self.fc = nn.Linear(hidden_size, vocab_size)\n",
        "\n",
        "    def forward(self, x):\n",
        "        x = self.embedding(x)\n",
        "        out, _ = self.lstm(x)\n",
        "        out = self.fc(out[:, -1, :])  # last timestep\n",
        "        return out\n"
      ],
      "metadata": {
        "id": "VjdPYU9w-7y0"
      },
      "execution_count": 5,
      "outputs": []
    },
    {
      "cell_type": "code",
      "source": [
        "##RNN + Attention Model\n",
        "\n",
        "class AttentionLSTMCharModel(nn.Module):\n",
        "    def __init__(self, vocab_size, emb_size=64, hidden_size=128, num_layers=1):\n",
        "        super(AttentionLSTMCharModel, self).__init__()\n",
        "        self.embedding = nn.Embedding(vocab_size, emb_size)\n",
        "        self.lstm = nn.LSTM(emb_size, hidden_size, num_layers, batch_first=True)\n",
        "        self.attn = nn.Linear(hidden_size, 1)\n",
        "        self.fc = nn.Linear(hidden_size, vocab_size)\n",
        "\n",
        "    def forward(self, x):\n",
        "        x = self.embedding(x)\n",
        "        lstm_out, _ = self.lstm(x)\n",
        "\n",
        "        # Attention scores and context vector\n",
        "        attn_weights = torch.softmax(self.attn(lstm_out).squeeze(-1), dim=1)  # (batch, seq_len)\n",
        "        context = torch.sum(lstm_out * attn_weights.unsqueeze(-1), dim=1)     # (batch, hidden)\n",
        "\n",
        "        out = self.fc(context)\n",
        "        return out\n"
      ],
      "metadata": {
        "id": "KWGN4c3J_AGH"
      },
      "execution_count": 6,
      "outputs": []
    },
    {
      "cell_type": "code",
      "source": [
        "# Same train_model() function works here\n",
        "\n",
        "print(\"\\n========== RNN (LSTM) Model ==========\")\n",
        "for seq_len in sequence_lengths:\n",
        "    print(f\"\\nTraining LSTM for sequence length {seq_len}\")\n",
        "    dataset = CharDataset(encoded_text, seq_len)\n",
        "    train_size = int(0.9 * len(dataset))\n",
        "    val_size = len(dataset) - train_size\n",
        "    train_set, val_set = torch.utils.data.random_split(dataset, [train_size, val_size])\n",
        "    train_loader = DataLoader(train_set, batch_size=64, shuffle=True)\n",
        "    val_loader = DataLoader(val_set, batch_size=64)\n",
        "\n",
        "    model = LSTMCharModel(vocab_size)\n",
        "    loss, acc, t_time, n_params = train_model(model, train_loader, val_loader)\n",
        "\n",
        "    print(f\"Loss: {loss:.4f}, Accuracy: {acc:.4f}, Time: {t_time:.2f}s, Params: {n_params}\")\n",
        "\n",
        "print(\"\\n========== RNN + Attention Model ==========\")\n",
        "for seq_len in sequence_lengths:\n",
        "    print(f\"\\nTraining LSTM+Attention for sequence length {seq_len}\")\n",
        "    dataset = CharDataset(encoded_text, seq_len)\n",
        "    train_size = int(0.9 * len(dataset))\n",
        "    val_size = len(dataset) - train_size\n",
        "    train_set, val_set = torch.utils.data.random_split(dataset, [train_size, val_size])\n",
        "    train_loader = DataLoader(train_set, batch_size=64, shuffle=True)\n",
        "    val_loader = DataLoader(val_set, batch_size=64)\n",
        "\n",
        "    model = AttentionLSTMCharModel(vocab_size)\n",
        "    loss, acc, t_time, n_params = train_model(model, train_loader, val_loader)\n",
        "\n",
        "    print(f\"Loss: {loss:.4f}, Accuracy: {acc:.4f}, Time: {t_time:.2f}s, Params: {n_params}\")\n"
      ],
      "metadata": {
        "colab": {
          "base_uri": "https://localhost:8080/"
        },
        "id": "y3osflG__DH6",
        "outputId": "db6fd09d-b747-4ccb-ad6b-880985fc28df"
      },
      "execution_count": 7,
      "outputs": [
        {
          "output_type": "stream",
          "name": "stdout",
          "text": [
            "\n",
            "========== RNN (LSTM) Model ==========\n",
            "\n",
            "Training LSTM for sequence length 10\n",
            "Epoch 1, Loss: 3.1495\n",
            "Epoch 2, Loss: 2.8203\n",
            "Epoch 3, Loss: 2.4555\n",
            "Epoch 4, Loss: 2.1652\n",
            "Epoch 5, Loss: 1.8831\n",
            "Loss: 1.8831, Accuracy: 0.4351, Time: 6.17s, Params: 240109\n",
            "\n",
            "Training LSTM for sequence length 20\n",
            "Epoch 1, Loss: 3.1699\n",
            "Epoch 2, Loss: 2.8400\n",
            "Epoch 3, Loss: 2.4349\n",
            "Epoch 4, Loss: 2.1573\n",
            "Epoch 5, Loss: 1.9378\n",
            "Loss: 1.9378, Accuracy: 0.4706, Time: 11.77s, Params: 240109\n",
            "\n",
            "Training LSTM for sequence length 30\n",
            "Epoch 1, Loss: 3.1648\n",
            "Epoch 2, Loss: 2.8256\n",
            "Epoch 3, Loss: 2.4644\n",
            "Epoch 4, Loss: 2.2109\n",
            "Epoch 5, Loss: 2.0036\n",
            "Loss: 2.0036, Accuracy: 0.4346, Time: 17.42s, Params: 240109\n",
            "\n",
            "========== RNN + Attention Model ==========\n",
            "\n",
            "Training LSTM+Attention for sequence length 10\n",
            "Epoch 1, Loss: 3.2056\n",
            "Epoch 2, Loss: 3.0109\n",
            "Epoch 3, Loss: 2.9424\n",
            "Epoch 4, Loss: 2.7672\n",
            "Epoch 5, Loss: 2.4786\n",
            "Loss: 2.4786, Accuracy: 0.2887, Time: 2.78s, Params: 108142\n",
            "\n",
            "Training LSTM+Attention for sequence length 20\n",
            "Epoch 1, Loss: 3.2191\n",
            "Epoch 2, Loss: 3.0679\n",
            "Epoch 3, Loss: 3.0424\n",
            "Epoch 4, Loss: 3.0291\n",
            "Epoch 5, Loss: 3.0116\n",
            "Loss: 3.0116, Accuracy: 0.1471, Time: 4.86s, Params: 108142\n",
            "\n",
            "Training LSTM+Attention for sequence length 30\n",
            "Epoch 1, Loss: 3.1925\n",
            "Epoch 2, Loss: 3.0699\n",
            "Epoch 3, Loss: 3.0614\n",
            "Epoch 4, Loss: 3.0375\n",
            "Epoch 5, Loss: 3.0168\n",
            "Loss: 3.0168, Accuracy: 0.1266, Time: 8.07s, Params: 108142\n"
          ]
        }
      ]
    }
  ]
}